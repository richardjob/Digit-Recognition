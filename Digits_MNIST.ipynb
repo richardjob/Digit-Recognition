{
  "nbformat": 4,
  "nbformat_minor": 0,
  "metadata": {
    "colab": {
      "name": " Digits MNIST.ipynb",
      "provenance": []
    },
    "kernelspec": {
      "name": "python3",
      "display_name": "Python 3"
    }
  },
  "cells": [
    {
      "cell_type": "code",
      "metadata": {
        "id": "t9-JNhN2MX51",
        "colab": {
          "base_uri": "https://localhost:8080/"
        },
        "outputId": "f5d8f1b3-d555-4f03-eae4-2de2d692b78c"
      },
      "source": [
        "import tensorflow as tf\r\n",
        "import numpy as np\r\n",
        "import matplotlib.pyplot as plt\r\n",
        "print(tf.__version__)\r\n"
      ],
      "execution_count": null,
      "outputs": [
        {
          "output_type": "stream",
          "text": [
            "2.4.1\n"
          ],
          "name": "stdout"
        }
      ]
    },
    {
      "cell_type": "code",
      "metadata": {
        "id": "i9T1rsTYl38X"
      },
      "source": [
        "mnist = tf.keras.datasets.mnist \r\n",
        "(x_train,y_train),(x_test,y_test) = mnist.load_data()"
      ],
      "execution_count": null,
      "outputs": []
    },
    {
      "cell_type": "code",
      "metadata": {
        "id": "6NQ1L3-ShBjk"
      },
      "source": [
        "x_train = x_train.reshape(x_train.shape[0], 28, 28, 1)\r\n",
        "x_test = x_test.reshape(x_test.shape[0], 28, 28, 1)"
      ],
      "execution_count": null,
      "outputs": []
    },
    {
      "cell_type": "code",
      "metadata": {
        "id": "1b1pprh1maPL"
      },
      "source": [
        "x_train = x_train/255.0\r\n",
        "x_test = x_test/255.0"
      ],
      "execution_count": null,
      "outputs": []
    },
    {
      "cell_type": "code",
      "metadata": {
        "id": "8OQvAGbAmtLj"
      },
      "source": [
        "model = tf.keras.models.Sequential([\r\n",
        "                                   \r\n",
        "                                    tf.keras.layers.Conv2D(28,(3,3),activation = 'relu',input_shape = (28,28,1)),\r\n",
        "                                    tf.keras.layers.MaxPooling2D(2,2),\r\n",
        "                                    tf.keras.layers.Flatten(),\r\n",
        "                                    tf.keras.layers.Dense(128,activation='relu'),\r\n",
        "                                    tf.keras.layers.Dense(10,activation = 'softmax')\r\n",
        "                                    \r\n",
        "\r\n",
        "])"
      ],
      "execution_count": null,
      "outputs": []
    },
    {
      "cell_type": "code",
      "metadata": {
        "id": "VU1nQp1vo4sK"
      },
      "source": [
        "model.compile(optimizer='adam', loss='sparse_categorical_crossentropy', metrics=['accuracy'])"
      ],
      "execution_count": null,
      "outputs": []
    },
    {
      "cell_type": "code",
      "metadata": {
        "colab": {
          "base_uri": "https://localhost:8080/"
        },
        "id": "fVP42TGzpCqs",
        "outputId": "a5e9e0cc-7016-4cfa-c428-667de4bf679e"
      },
      "source": [
        "model.fit(x_train,y_train,epochs=10)"
      ],
      "execution_count": null,
      "outputs": [
        {
          "output_type": "stream",
          "text": [
            "Epoch 1/10\n",
            "1875/1875 [==============================] - 32s 17ms/step - loss: 0.1823 - accuracy: 0.9449\n",
            "Epoch 2/10\n",
            "1875/1875 [==============================] - 33s 17ms/step - loss: 0.1523 - accuracy: 0.9539\n",
            "Epoch 3/10\n",
            "1875/1875 [==============================] - 36s 19ms/step - loss: 0.1301 - accuracy: 0.9605\n",
            "Epoch 4/10\n",
            "1875/1875 [==============================] - 32s 17ms/step - loss: 0.1139 - accuracy: 0.9646\n",
            "Epoch 5/10\n",
            "1875/1875 [==============================] - 32s 17ms/step - loss: 0.1018 - accuracy: 0.9682\n",
            "Epoch 6/10\n",
            "1875/1875 [==============================] - 31s 17ms/step - loss: 0.0925 - accuracy: 0.9712\n",
            "Epoch 7/10\n",
            "1875/1875 [==============================] - 31s 17ms/step - loss: 0.0847 - accuracy: 0.9738\n",
            "Epoch 8/10\n",
            "1875/1875 [==============================] - 32s 17ms/step - loss: 0.0783 - accuracy: 0.9758\n",
            "Epoch 9/10\n",
            "1875/1875 [==============================] - 32s 17ms/step - loss: 0.0727 - accuracy: 0.9773\n",
            "Epoch 10/10\n",
            "1875/1875 [==============================] - 32s 17ms/step - loss: 0.0686 - accuracy: 0.9779\n"
          ],
          "name": "stdout"
        },
        {
          "output_type": "execute_result",
          "data": {
            "text/plain": [
              "<tensorflow.python.keras.callbacks.History at 0x7f019e939978>"
            ]
          },
          "metadata": {
            "tags": []
          },
          "execution_count": 32
        }
      ]
    },
    {
      "cell_type": "code",
      "metadata": {
        "id": "TKNx-dUnpWhi",
        "colab": {
          "base_uri": "https://localhost:8080/"
        },
        "outputId": "ac1d5d2d-a0b9-4985-d98d-1ca06aa8641d"
      },
      "source": [
        "loss,accuracy = model.evaluate(x_test,y_test)\r\n",
        "print(accuracy)\r\n",
        "print(loss)"
      ],
      "execution_count": null,
      "outputs": [
        {
          "output_type": "stream",
          "text": [
            "313/313 [==============================] - 2s 6ms/step - loss: 0.0987 - accuracy: 0.9706\n",
            "0.9706000089645386\n",
            "0.09865795075893402\n"
          ],
          "name": "stdout"
        }
      ]
    }
  ]
}